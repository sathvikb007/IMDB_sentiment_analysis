{
  "nbformat": 4,
  "nbformat_minor": 0,
  "metadata": {
    "colab": {
      "name": "Untitled2.ipynb",
      "provenance": [],
      "collapsed_sections": [],
      "authorship_tag": "ABX9TyOwC+EISQJu3IXVUvDoZVJt",
      "include_colab_link": true
    },
    "kernelspec": {
      "name": "python3",
      "display_name": "Python 3"
    },
    "accelerator": "GPU"
  },
  "cells": [
    {
      "cell_type": "markdown",
      "metadata": {
        "id": "view-in-github",
        "colab_type": "text"
      },
      "source": [
        "<a href=\"https://colab.research.google.com/github/sathvikb007/IMDB_sentiment_analysis/blob/branch1/model.ipynb\" target=\"_parent\"><img src=\"https://colab.research.google.com/assets/colab-badge.svg\" alt=\"Open In Colab\"/></a>"
      ]
    },
    {
      "cell_type": "code",
      "metadata": {
        "id": "cuv6p4JjKT2-",
        "colab_type": "code",
        "colab": {
          "base_uri": "https://localhost:8080/",
          "height": 52
        },
        "outputId": "40d131da-31f1-4a8c-e2cf-f2f0337f4c6e"
      },
      "source": [
        "from tensorflow.python.keras.datasets import imdb\n",
        "number_of_words = 10000\n",
        "(x_train, y_train),(x_test, y_test) = imdb.load_data(num_words=number_of_words)"
      ],
      "execution_count": 1,
      "outputs": [
        {
          "output_type": "stream",
          "text": [
            "Downloading data from https://storage.googleapis.com/tensorflow/tf-keras-datasets/imdb.npz\n",
            "17465344/17464789 [==============================] - 0s 0us/step\n"
          ],
          "name": "stdout"
        }
      ]
    },
    {
      "cell_type": "code",
      "metadata": {
        "id": "6ZsqGI8dKgFJ",
        "colab_type": "code",
        "colab": {
          "base_uri": "https://localhost:8080/",
          "height": 52
        },
        "outputId": "8a5253ec-2581-4d7f-b19e-1d8d6f55c1d2"
      },
      "source": [
        "word_index = imdb.get_word_index()"
      ],
      "execution_count": 2,
      "outputs": [
        {
          "output_type": "stream",
          "text": [
            "Downloading data from https://storage.googleapis.com/tensorflow/tf-keras-datasets/imdb_word_index.json\n",
            "1646592/1641221 [==============================] - 0s 0us/step\n"
          ],
          "name": "stdout"
        }
      ]
    },
    {
      "cell_type": "code",
      "metadata": {
        "id": "HiY7asIPVvxm",
        "colab_type": "code",
        "colab": {}
      },
      "source": [
        "reverse_word_index = dict((value,key) for key, value in word_index.items())\n",
        "\n",
        "def decode(review): #Function to read text from the set of values\n",
        "  text=\"\"\n",
        "  for i in review:\n",
        "    text += reverse_word_index[i]\n",
        "    text += ' '\n",
        "  return text"
      ],
      "execution_count": 0,
      "outputs": []
    },
    {
      "cell_type": "code",
      "metadata": {
        "id": "zmn8ugCfWwG5",
        "colab_type": "code",
        "colab": {
          "base_uri": "https://localhost:8080/",
          "height": 54
        },
        "outputId": "94c0b71f-7d2c-4e12-e876-e7d6e6117ee8"
      },
      "source": [
        "decode(x_train[0])"
      ],
      "execution_count": 4,
      "outputs": [
        {
          "output_type": "execute_result",
          "data": {
            "text/plain": [
              "\"the as you with out themselves powerful lets loves their becomes reaching had journalist of lot from anyone to have after out atmosphere never more room and it so heart shows to years of every never going and help moments or of every chest visual movie except her was several of enough more with is now current film as you of mine potentially unfortunately of you than him that with out themselves her get for was camp of you movie sometimes movie that with scary but and to story wonderful that in seeing in character to of 70s musicians with heart had shadows they of here that with her serious to have does when from why what have critics they is you that isn't one will very to as itself with other and in of seen over landed for anyone of and br show's to whether from than out themselves history he name half some br of and odd was two most of mean for 1 any an boat she he should is thought frog but of script you not while history he heart to real at barrel but when from one bit then have two of script their with her nobody most that with wasn't to with armed acting watch an for with heartfelt film want an \""
            ]
          },
          "metadata": {
            "tags": []
          },
          "execution_count": 4
        }
      ]
    },
    {
      "cell_type": "code",
      "metadata": {
        "id": "eiISdjoIXDJ9",
        "colab_type": "code",
        "colab": {}
      },
      "source": [
        "from tensorflow.keras.preprocessing.sequence import pad_sequences\n",
        "X_train = pad_sequences(x_train, value = 1, padding = 'post')\n",
        "X_test = pad_sequences(x_test, value = 1, padding = 'post')"
      ],
      "execution_count": 0,
      "outputs": []
    },
    {
      "cell_type": "code",
      "metadata": {
        "id": "-PLNMvjrYYpV",
        "colab_type": "code",
        "colab": {
          "base_uri": "https://localhost:8080/",
          "height": 298
        },
        "outputId": "2b6ec83d-0ad2-4373-a861-99bacc98d84e"
      },
      "source": [
        "from tensorflow.keras.models import Sequential\n",
        "from tensorflow.keras.layers import Dense, Embedding, GlobalAveragePooling1D\n",
        "\n",
        "embedding_dim = 16\n",
        "\n",
        "model = Sequential([\n",
        "    Embedding(number_of_words, embedding_dim),\n",
        "    GlobalAveragePooling1D(),\n",
        "    Dense(15, activation='relu'),\n",
        "    Dense(1, activation='sigmoid')\n",
        "])\n",
        "\n",
        "h = model.compile(\n",
        "    loss = 'binary_crossentropy',\n",
        "    optimizer = 'adam',\n",
        "    metrics = ['accuracy']\n",
        ")\n",
        "\n",
        "model.summary()"
      ],
      "execution_count": 14,
      "outputs": [
        {
          "output_type": "stream",
          "text": [
            "Model: \"sequential_3\"\n",
            "_________________________________________________________________\n",
            "Layer (type)                 Output Shape              Param #   \n",
            "=================================================================\n",
            "embedding_3 (Embedding)      (None, None, 16)          160000    \n",
            "_________________________________________________________________\n",
            "global_average_pooling1d_3 ( (None, 16)                0         \n",
            "_________________________________________________________________\n",
            "dense_6 (Dense)              (None, 15)                255       \n",
            "_________________________________________________________________\n",
            "dense_7 (Dense)              (None, 1)                 16        \n",
            "=================================================================\n",
            "Total params: 160,271\n",
            "Trainable params: 160,271\n",
            "Non-trainable params: 0\n",
            "_________________________________________________________________\n"
          ],
          "name": "stdout"
        }
      ]
    },
    {
      "cell_type": "code",
      "metadata": {
        "id": "nRxtIMYvbBtA",
        "colab_type": "code",
        "colab": {
          "base_uri": "https://localhost:8080/",
          "height": 897
        },
        "outputId": "a85ead98-06a4-4f0f-f259-b538f9e5297a"
      },
      "source": [
        "\n",
        "\n",
        "num_epochs = 20\n",
        "\n",
        "h = model.fit(\n",
        "    X_train, y_train,\n",
        "    validation_split = 0.2,\n",
        "    epochs = num_epochs,\n",
        "    #callbacks = [simple_log],\n",
        "    #verbose = False\n",
        ")"
      ],
      "execution_count": 15,
      "outputs": [
        {
          "output_type": "stream",
          "text": [
            "Epoch 1/25\n",
            "625/625 [==============================] - 5s 9ms/step - loss: 0.6904 - accuracy: 0.5397 - val_loss: 0.6792 - val_accuracy: 0.5812\n",
            "Epoch 2/25\n",
            "625/625 [==============================] - 5s 8ms/step - loss: 0.6152 - accuracy: 0.7209 - val_loss: 0.5275 - val_accuracy: 0.8098\n",
            "Epoch 3/25\n",
            "625/625 [==============================] - 5s 8ms/step - loss: 0.4530 - accuracy: 0.8353 - val_loss: 0.4021 - val_accuracy: 0.8548\n",
            "Epoch 4/25\n",
            "625/625 [==============================] - 6s 9ms/step - loss: 0.3555 - accuracy: 0.8705 - val_loss: 0.3504 - val_accuracy: 0.8676\n",
            "Epoch 5/25\n",
            "625/625 [==============================] - 5s 9ms/step - loss: 0.3058 - accuracy: 0.8875 - val_loss: 0.3207 - val_accuracy: 0.8780\n",
            "Epoch 6/25\n",
            "625/625 [==============================] - 5s 8ms/step - loss: 0.2761 - accuracy: 0.8960 - val_loss: 0.3059 - val_accuracy: 0.8824\n",
            "Epoch 7/25\n",
            "625/625 [==============================] - 5s 8ms/step - loss: 0.2518 - accuracy: 0.9064 - val_loss: 0.3006 - val_accuracy: 0.8808\n",
            "Epoch 8/25\n",
            "625/625 [==============================] - 5s 8ms/step - loss: 0.2356 - accuracy: 0.9116 - val_loss: 0.2915 - val_accuracy: 0.8862\n",
            "Epoch 9/25\n",
            "625/625 [==============================] - 5s 8ms/step - loss: 0.2213 - accuracy: 0.9176 - val_loss: 0.2840 - val_accuracy: 0.8902\n",
            "Epoch 10/25\n",
            "625/625 [==============================] - 5s 8ms/step - loss: 0.2077 - accuracy: 0.9225 - val_loss: 0.2816 - val_accuracy: 0.8920\n",
            "Epoch 11/25\n",
            "625/625 [==============================] - 5s 8ms/step - loss: 0.1979 - accuracy: 0.9272 - val_loss: 0.2791 - val_accuracy: 0.8936\n",
            "Epoch 12/25\n",
            "625/625 [==============================] - 5s 8ms/step - loss: 0.1854 - accuracy: 0.9333 - val_loss: 0.2783 - val_accuracy: 0.8942\n",
            "Epoch 13/25\n",
            "625/625 [==============================] - 5s 8ms/step - loss: 0.1754 - accuracy: 0.9368 - val_loss: 0.2794 - val_accuracy: 0.8954\n",
            "Epoch 14/25\n",
            "625/625 [==============================] - 5s 8ms/step - loss: 0.1683 - accuracy: 0.9395 - val_loss: 0.2993 - val_accuracy: 0.8880\n",
            "Epoch 15/25\n",
            "625/625 [==============================] - 5s 8ms/step - loss: 0.1592 - accuracy: 0.9433 - val_loss: 0.2816 - val_accuracy: 0.8964\n",
            "Epoch 16/25\n",
            "625/625 [==============================] - 5s 8ms/step - loss: 0.1520 - accuracy: 0.9453 - val_loss: 0.2868 - val_accuracy: 0.8956\n",
            "Epoch 17/25\n",
            "625/625 [==============================] - 5s 8ms/step - loss: 0.1419 - accuracy: 0.9511 - val_loss: 0.2879 - val_accuracy: 0.8968\n",
            "Epoch 18/25\n",
            "625/625 [==============================] - 5s 9ms/step - loss: 0.1394 - accuracy: 0.9502 - val_loss: 0.2954 - val_accuracy: 0.8932\n",
            "Epoch 19/25\n",
            "625/625 [==============================] - 5s 8ms/step - loss: 0.1302 - accuracy: 0.9542 - val_loss: 0.2963 - val_accuracy: 0.8998\n",
            "Epoch 20/25\n",
            "625/625 [==============================] - 5s 8ms/step - loss: 0.1232 - accuracy: 0.9579 - val_loss: 0.3047 - val_accuracy: 0.8950\n",
            "Epoch 21/25\n",
            "625/625 [==============================] - 5s 8ms/step - loss: 0.1173 - accuracy: 0.9600 - val_loss: 0.3088 - val_accuracy: 0.8934\n",
            "Epoch 22/25\n",
            "625/625 [==============================] - 5s 8ms/step - loss: 0.1124 - accuracy: 0.9614 - val_loss: 0.3177 - val_accuracy: 0.8912\n",
            "Epoch 23/25\n",
            "625/625 [==============================] - 5s 8ms/step - loss: 0.1082 - accuracy: 0.9646 - val_loss: 0.4059 - val_accuracy: 0.8666\n",
            "Epoch 24/25\n",
            "625/625 [==============================] - 5s 8ms/step - loss: 0.1051 - accuracy: 0.9644 - val_loss: 0.3246 - val_accuracy: 0.8968\n",
            "Epoch 25/25\n",
            "625/625 [==============================] - 5s 8ms/step - loss: 0.0979 - accuracy: 0.9671 - val_loss: 0.3374 - val_accuracy: 0.8952\n"
          ],
          "name": "stdout"
        }
      ]
    },
    {
      "cell_type": "code",
      "metadata": {
        "id": "KozVa4h1dviv",
        "colab_type": "code",
        "colab": {
          "base_uri": "https://localhost:8080/",
          "height": 282
        },
        "outputId": "e459af17-6a6b-4fe8-e82c-05c7dbbb7ea4"
      },
      "source": [
        "import matplotlib.pyplot as plt\n",
        "% matplotlib inline\n",
        "\n",
        "plt.plot(range(num_epochs), h.history['accuracy'], label = 'Training')\n",
        "plt.plot(range(num_epochs), h.history['val_accuracy'], label = 'Testing')"
      ],
      "execution_count": 20,
      "outputs": [
        {
          "output_type": "execute_result",
          "data": {
            "text/plain": [
              "[<matplotlib.lines.Line2D at 0x7f9b03ef2128>]"
            ]
          },
          "metadata": {
            "tags": []
          },
          "execution_count": 20
        },
        {
          "output_type": "display_data",
          "data": {
            "image/png": "[encoded data removed]",
            "text/plain": [
              "<Figure size 432x288 with 1 Axes>"
            ]
          },
          "metadata": {
            "tags": []
          }
        }
      ]
    },
    {
      "cell_type": "code",
      "metadata": {
        "id": "MkjYhkbSgNf_",
        "colab_type": "code",
        "colab": {
          "base_uri": "https://localhost:8080/",
          "height": 87
        },
        "outputId": "b245ff05-a361-4a60-bb8f-6d9517a51736"
      },
      "source": [
        "loss, acc = model.evaluate(X_train, y_train)\n",
        "val_loss, val_acc = model.evaluate(X_test, y_test)\n",
        "print(\"Training set accuracy = \", acc*100)\n",
        "print(\"Test set accuracy = \", val_acc*100)"
      ],
      "execution_count": 22,
      "outputs": [
        {
          "output_type": "stream",
          "text": [
            "782/782 [==============================] - 3s 4ms/step - loss: 0.1412 - accuracy: 0.9552\n",
            "782/782 [==============================] - 3s 4ms/step - loss: 0.3689 - accuracy: 0.8778\n",
            "Training set accuracy =  95.51600217819214\n",
            "Test set accuracy =  87.77599930763245\n"
          ],
          "name": "stdout"
        }
      ]
    },
    {
      "cell_type": "code",
      "metadata": {
        "id": "Ub0icOj5gRfB",
        "colab_type": "code",
        "colab": {}
      },
      "source": [
        ""
      ],
      "execution_count": 0,
      "outputs": []
    }
  ]
}